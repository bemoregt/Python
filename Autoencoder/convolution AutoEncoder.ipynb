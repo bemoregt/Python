{
 "cells": [
  {
   "cell_type": "code",
   "execution_count": 1,
   "metadata": {},
   "outputs": [],
   "source": [
    "import os\n",
    "import numpy as np\n",
    "import pandas as pd\n",
    "import matplotlib.pyplot as plt"
   ]
  },
  {
   "cell_type": "code",
   "execution_count": 2,
   "metadata": {},
   "outputs": [],
   "source": [
    "import torch\n",
    "import torchvision\n",
    "import torch.nn as nn\n",
    "from torch.autograd import Variable\n",
    "from torch.utils.data import DataLoader\n",
    "from torchvision import transforms\n",
    "from torchvision.datasets import MNIST\n",
    "from torchvision.utils import save_image"
   ]
  },
  {
   "cell_type": "code",
   "execution_count": 3,
   "metadata": {},
   "outputs": [],
   "source": [
    "if not os.path.exists('./mlp_img_conv'):\n",
    "    os.mkdir('./mlp_img_conv')"
   ]
  },
  {
   "cell_type": "code",
   "execution_count": 6,
   "metadata": {},
   "outputs": [],
   "source": [
    "def to_img(x):\n",
    "    x = x.view(x.size(0),1,28,28)\n",
    "    #print (x)\n",
    "    return x"
   ]
  },
  {
   "cell_type": "code",
   "execution_count": 7,
   "metadata": {},
   "outputs": [],
   "source": [
    "num_epochs = 100\n",
    "batch_size = 128\n",
    "learning_rate = 0.001"
   ]
  },
  {
   "cell_type": "code",
   "execution_count": 8,
   "metadata": {},
   "outputs": [],
   "source": [
    "def plot_sample_img(img, name):\n",
    "    img=img.view(1,28,28)\n",
    "    save_img(img, './sample_{}.png'.format(name))"
   ]
  },
  {
   "cell_type": "code",
   "execution_count": 9,
   "metadata": {},
   "outputs": [],
   "source": [
    "def min_max_normalization(tensor, min_value, max_value):\n",
    "    min_tensor = tensor.min()\n",
    "    tensor = (tensor - min_tensor)\n",
    "    max_tensor = tensor.max()\n",
    "    tensor = tensor/max_tensor\n",
    "    tensor = tensor*(max_value - min_value) + min_value\n",
    "    return torch.round(tensor)"
   ]
  },
  {
   "cell_type": "code",
   "execution_count": 10,
   "metadata": {},
   "outputs": [],
   "source": [
    "img_transform =transforms.Compose([\n",
    "    transforms.ToTensor(),\n",
    "    transforms.Normalize((0.5,0.5,0.5),(0.5,0.5,0.5))])"
   ]
  },
  {
   "cell_type": "code",
   "execution_count": 11,
   "metadata": {},
   "outputs": [],
   "source": [
    "dataset = MNIST('./data', transform=img_transform)\n",
    "dataloader = DataLoader(dataset, batch_size = batch_size, shuffle= True)"
   ]
  },
  {
   "cell_type": "code",
   "execution_count": 10,
   "metadata": {},
   "outputs": [],
   "source": [
    "'''class autoencoder(nn.Module):\n",
    "    def __init__(self):\n",
    "        super(autoencoder,self).__init__()\n",
    "        self.encoder = nn.Sequential(\n",
    "            nn.Linear(28*28,256),\n",
    "            nn.ReLU(True),\n",
    "            nn.Linear(256,64),\n",
    "            nn.ReLU(True))\n",
    "        \n",
    "        self.decoder = nn.Sequential(\n",
    "            nn.Linear(64,256),\n",
    "            nn.ReLU(True),\n",
    "            nn.Linear(256,28*28),\n",
    "            nn.Sigmoid())\n",
    "        # Define forward\n",
    "    def forward(self,x):\n",
    "        x = self.encoder(x)\n",
    "        x = self.decoder(x)\n",
    "        return x\n",
    "'''\n",
    "#Convolution autoencoder\n",
    "class autoencoder(nn.Module):\n",
    "    def __init__(self):\n",
    "        super(autoencoder, self).__init__()\n",
    "        self.encoder = nn.Sequential(\n",
    "            nn.Conv2d(1, 16, 3, stride=3, padding=1),  # b, 16, 10, 10\n",
    "            nn.ReLU(True),\n",
    "            nn.MaxPool2d(2, stride=2),  # b, 16, 5, 5\n",
    "            nn.Conv2d(16, 8, 3, stride=2, padding=1),  # b, 8, 3, 3\n",
    "            nn.ReLU(True),\n",
    "            nn.MaxPool2d(2, stride=1)  # b, 8, 2, 2\n",
    "        )\n",
    "        self.decoder = nn.Sequential(\n",
    "            nn.ConvTranspose2d(8, 16, 3, stride=2),  # b, 16, 5, 5\n",
    "            nn.ReLU(True),\n",
    "            nn.ConvTranspose2d(16, 8, 5, stride=3, padding=1),  # b, 8, 15, 15\n",
    "            nn.ReLU(True),\n",
    "            nn.ConvTranspose2d(8, 1, 2, stride=2, padding=1),  # b, 1, 28, 28\n",
    "            nn.Tanh()\n",
    "        )\n",
    "\n",
    "    def forward(self, x):\n",
    "        x = self.encoder(x)\n",
    "        x = self.decoder(x)\n",
    "        return x"
   ]
  },
  {
   "cell_type": "code",
   "execution_count": 11,
   "metadata": {},
   "outputs": [
    {
     "data": {
      "text/plain": [
       "autoencoder(\n",
       "  (encoder): Sequential(\n",
       "    (0): Conv2d(1, 16, kernel_size=(3, 3), stride=(3, 3), padding=(1, 1))\n",
       "    (1): ReLU(inplace)\n",
       "    (2): MaxPool2d(kernel_size=2, stride=2, padding=0, dilation=1, ceil_mode=False)\n",
       "    (3): Conv2d(16, 8, kernel_size=(3, 3), stride=(2, 2), padding=(1, 1))\n",
       "    (4): ReLU(inplace)\n",
       "    (5): MaxPool2d(kernel_size=2, stride=1, padding=0, dilation=1, ceil_mode=False)\n",
       "  )\n",
       "  (decoder): Sequential(\n",
       "    (0): ConvTranspose2d(8, 16, kernel_size=(3, 3), stride=(2, 2))\n",
       "    (1): ReLU(inplace)\n",
       "    (2): ConvTranspose2d(16, 8, kernel_size=(5, 5), stride=(3, 3), padding=(1, 1))\n",
       "    (3): ReLU(inplace)\n",
       "    (4): ConvTranspose2d(8, 1, kernel_size=(2, 2), stride=(2, 2), padding=(1, 1))\n",
       "    (5): Tanh()\n",
       "  )\n",
       ")"
      ]
     },
     "execution_count": 11,
     "metadata": {},
     "output_type": "execute_result"
    }
   ],
   "source": [
    "model = autoencoder().cuda()\n",
    "model"
   ]
  },
  {
   "cell_type": "code",
   "execution_count": 12,
   "metadata": {},
   "outputs": [],
   "source": [
    "criterion = nn.MSELoss()\n",
    "optimizer = torch.optim.Adam(model.parameters(), lr = learning_rate, weight_decay=0.0001)"
   ]
  },
  {
   "cell_type": "code",
   "execution_count": 13,
   "metadata": {},
   "outputs": [
    {
     "name": "stdout",
     "output_type": "stream",
     "text": [
      "epoch [1/100], loss:0.2093\n",
      "epoch [2/100], loss:0.1584\n",
      "epoch [3/100], loss:0.1435\n",
      "epoch [4/100], loss:0.1385\n",
      "epoch [5/100], loss:0.1288\n",
      "epoch [6/100], loss:0.1190\n",
      "epoch [7/100], loss:0.1216\n",
      "epoch [8/100], loss:0.1159\n",
      "epoch [9/100], loss:0.1176\n",
      "epoch [10/100], loss:0.1186\n",
      "epoch [11/100], loss:0.1114\n",
      "epoch [12/100], loss:0.1106\n",
      "epoch [13/100], loss:0.1076\n",
      "epoch [14/100], loss:0.1056\n",
      "epoch [15/100], loss:0.1189\n",
      "epoch [16/100], loss:0.0982\n",
      "epoch [17/100], loss:0.1087\n",
      "epoch [18/100], loss:0.1130\n",
      "epoch [19/100], loss:0.1047\n",
      "epoch [20/100], loss:0.0969\n",
      "epoch [21/100], loss:0.0997\n",
      "epoch [22/100], loss:0.1046\n",
      "epoch [23/100], loss:0.1052\n",
      "epoch [24/100], loss:0.1039\n",
      "epoch [25/100], loss:0.1027\n",
      "epoch [26/100], loss:0.1047\n",
      "epoch [27/100], loss:0.1018\n",
      "epoch [28/100], loss:0.1041\n",
      "epoch [29/100], loss:0.1039\n",
      "epoch [30/100], loss:0.1069\n",
      "epoch [31/100], loss:0.1001\n",
      "epoch [32/100], loss:0.0944\n",
      "epoch [33/100], loss:0.0951\n",
      "epoch [34/100], loss:0.0873\n",
      "epoch [35/100], loss:0.1026\n",
      "epoch [36/100], loss:0.0993\n",
      "epoch [37/100], loss:0.0985\n",
      "epoch [38/100], loss:0.0921\n",
      "epoch [39/100], loss:0.1030\n",
      "epoch [40/100], loss:0.0991\n",
      "epoch [41/100], loss:0.0876\n",
      "epoch [42/100], loss:0.0978\n",
      "epoch [43/100], loss:0.0898\n",
      "epoch [44/100], loss:0.0986\n",
      "epoch [45/100], loss:0.0948\n",
      "epoch [46/100], loss:0.0922\n",
      "epoch [47/100], loss:0.0983\n",
      "epoch [48/100], loss:0.0919\n",
      "epoch [49/100], loss:0.0929\n",
      "epoch [50/100], loss:0.0995\n",
      "epoch [51/100], loss:0.0898\n",
      "epoch [52/100], loss:0.0917\n",
      "epoch [53/100], loss:0.1001\n",
      "epoch [54/100], loss:0.0903\n",
      "epoch [55/100], loss:0.1012\n",
      "epoch [56/100], loss:0.0900\n",
      "epoch [57/100], loss:0.1001\n",
      "epoch [58/100], loss:0.0923\n",
      "epoch [59/100], loss:0.0901\n",
      "epoch [60/100], loss:0.0837\n",
      "epoch [61/100], loss:0.0939\n",
      "epoch [62/100], loss:0.0839\n",
      "epoch [63/100], loss:0.0885\n",
      "epoch [64/100], loss:0.0949\n",
      "epoch [65/100], loss:0.0895\n",
      "epoch [66/100], loss:0.0844\n",
      "epoch [67/100], loss:0.0886\n",
      "epoch [68/100], loss:0.0955\n",
      "epoch [69/100], loss:0.0929\n",
      "epoch [70/100], loss:0.0931\n",
      "epoch [71/100], loss:0.0822\n",
      "epoch [72/100], loss:0.0943\n",
      "epoch [73/100], loss:0.0883\n",
      "epoch [74/100], loss:0.0975\n",
      "epoch [75/100], loss:0.0887\n",
      "epoch [76/100], loss:0.0929\n",
      "epoch [77/100], loss:0.0896\n",
      "epoch [78/100], loss:0.0985\n",
      "epoch [79/100], loss:0.0931\n",
      "epoch [80/100], loss:0.0913\n",
      "epoch [81/100], loss:0.0874\n",
      "epoch [82/100], loss:0.0822\n",
      "epoch [83/100], loss:0.0849\n",
      "epoch [84/100], loss:0.0892\n",
      "epoch [85/100], loss:0.0949\n",
      "epoch [86/100], loss:0.0888\n",
      "epoch [87/100], loss:0.0879\n",
      "epoch [88/100], loss:0.0880\n",
      "epoch [89/100], loss:0.0941\n",
      "epoch [90/100], loss:0.0968\n",
      "epoch [91/100], loss:0.0916\n",
      "epoch [92/100], loss:0.0815\n",
      "epoch [93/100], loss:0.0879\n",
      "epoch [94/100], loss:0.0880\n",
      "epoch [95/100], loss:0.0900\n",
      "epoch [96/100], loss:0.0912\n",
      "epoch [97/100], loss:0.0827\n",
      "epoch [98/100], loss:0.0841\n",
      "epoch [99/100], loss:0.0911\n",
      "epoch [100/100], loss:0.0885\n"
     ]
    }
   ],
   "source": [
    "# Training\n",
    "\n",
    "for epoch in range(num_epochs):\n",
    "    for data in dataloader:\n",
    "        img, _ = data\n",
    "        #img = img.view(img.size(0),-1)\n",
    "        img = Variable(img).cuda()\n",
    "        \n",
    "        # Forward\n",
    "        output = model(img)\n",
    "        loss = criterion(output, img)\n",
    "        \n",
    "        # Backward\n",
    "        optimizer.zero_grad()\n",
    "        loss.backward()\n",
    "        optimizer.step()\n",
    "        \n",
    "        # log\n",
    "    print('epoch [{}/{}], loss:{:.4f}'\n",
    "        .format(epoch + 1, num_epochs, loss.item()))\n",
    "    if epoch%10==0:\n",
    "        x = to_img(img.cpu().data)\n",
    "        x_hat = to_img(output.cpu().data)\n",
    "        save_image(x,'./mlp_img_conv/x_{}.png'.format(epoch))\n",
    "        save_image(x,'./mlp_img_conv/x_hat{}.png'.format(epoch))\n",
    "            \n",
    "torch.save(model.state_dict(),'./sim_denoising_autoencoder.pth')\n",
    "        "
   ]
  },
  {
   "cell_type": "code",
   "execution_count": 14,
   "metadata": {},
   "outputs": [
    {
     "data": {
      "text/plain": [
       "'D:\\\\1st year\\\\Python codes\\\\CIFR Analysis\\\\self contained analysis'"
      ]
     },
     "execution_count": 14,
     "metadata": {},
     "output_type": "execute_result"
    }
   ],
   "source": [
    "os.getcwd()"
   ]
  },
  {
   "cell_type": "code",
   "execution_count": null,
   "metadata": {},
   "outputs": [],
   "source": []
  },
  {
   "cell_type": "code",
   "execution_count": null,
   "metadata": {},
   "outputs": [],
   "source": []
  }
 ],
 "metadata": {
  "kernelspec": {
   "display_name": "Python 3",
   "language": "python",
   "name": "python3"
  },
  "language_info": {
   "codemirror_mode": {
    "name": "ipython",
    "version": 3
   },
   "file_extension": ".py",
   "mimetype": "text/x-python",
   "name": "python",
   "nbconvert_exporter": "python",
   "pygments_lexer": "ipython3",
   "version": "3.7.0"
  }
 },
 "nbformat": 4,
 "nbformat_minor": 2
}
