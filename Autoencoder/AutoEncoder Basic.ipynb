{
 "cells": [
  {
   "cell_type": "code",
   "execution_count": 2,
   "metadata": {},
   "outputs": [],
   "source": [
    "import os\n",
    "import numpy as np\n",
    "import pandas as pd\n",
    "import matplotlib.pyplot as plt"
   ]
  },
  {
   "cell_type": "code",
   "execution_count": 3,
   "metadata": {},
   "outputs": [],
   "source": [
    "# Torch modules for the autoencoders\n",
    "import torch\n",
    "import torchvision\n",
    "import torch.nn as nn\n",
    "from torch.autograd import Variable\n",
    "from torchvision import transforms\n",
    "from torch.utils.data import DataLoader\n",
    "from torchvision.datasets import MNIST\n",
    "from torchvision.utils import save_image"
   ]
  },
  {
   "cell_type": "code",
   "execution_count": 4,
   "metadata": {},
   "outputs": [],
   "source": [
    "if not os.path.exists('./mlp_img'):\n",
    "    os.mkdir('./mlp_img')"
   ]
  },
  {
   "cell_type": "code",
   "execution_count": 5,
   "metadata": {},
   "outputs": [],
   "source": [
    "def to_img(x):\n",
    "    x = 0.5*(x+1)\n",
    "    x = x.clamp(0,1)\n",
    "    x = x.view(x.size(0), 1,28,28)\n",
    "    return x\n",
    "        "
   ]
  },
  {
   "cell_type": "code",
   "execution_count": 6,
   "metadata": {},
   "outputs": [],
   "source": [
    "#Defining some hyperparameters\n",
    "num_epochs = 100\n",
    "batch_size = 128\n",
    "learning_rate = 0.001\n"
   ]
  },
  {
   "cell_type": "code",
   "execution_count": 7,
   "metadata": {},
   "outputs": [],
   "source": [
    "# Defining the image transforms\n",
    "transform = transforms.Compose([transforms.ToTensor(),\n",
    "                               transforms.Normalize((0.5,0.5,0.5),(0.5,0.5,0.5))])"
   ]
  },
  {
   "cell_type": "code",
   "execution_count": 8,
   "metadata": {},
   "outputs": [],
   "source": [
    "# Loading data\n",
    "dataset = MNIST('./data', transform=transform, download = True)\n"
   ]
  },
  {
   "cell_type": "code",
   "execution_count": 9,
   "metadata": {},
   "outputs": [
    {
     "data": {
      "text/plain": [
       "Dataset MNIST\n",
       "    Number of datapoints: 60000\n",
       "    Split: train\n",
       "    Root Location: ./data\n",
       "    Transforms (if any): Compose(\n",
       "                             ToTensor()\n",
       "                             Normalize(mean=(0.5, 0.5, 0.5), std=(0.5, 0.5, 0.5))\n",
       "                         )\n",
       "    Target Transforms (if any): None"
      ]
     },
     "execution_count": 9,
     "metadata": {},
     "output_type": "execute_result"
    }
   ],
   "source": [
    "dataset"
   ]
  },
  {
   "cell_type": "code",
   "execution_count": 10,
   "metadata": {},
   "outputs": [
    {
     "data": {
      "text/plain": [
       "<torch.utils.data.dataloader.DataLoader at 0x1fb439fe4e0>"
      ]
     },
     "execution_count": 10,
     "metadata": {},
     "output_type": "execute_result"
    }
   ],
   "source": [
    "dataloader = DataLoader(dataset, batch_size=batch_size, shuffle=True)\n",
    "dataloader"
   ]
  },
  {
   "cell_type": "code",
   "execution_count": 11,
   "metadata": {},
   "outputs": [],
   "source": [
    "#plt.imshow(dataloader)"
   ]
  },
  {
   "cell_type": "code",
   "execution_count": 12,
   "metadata": {},
   "outputs": [],
   "source": [
    "# Defining Encoder and Decoder\n",
    "class autoencoder(nn.Module):\n",
    "    def __init__(self):\n",
    "        super(autoencoder, self).__init__()\n",
    "        self.encoder = nn.Sequential(\n",
    "            nn.Linear(28*28,128),\n",
    "            nn.ReLU(True),\n",
    "            nn.Linear(128,64),\n",
    "            nn.ReLU(True),\n",
    "            nn.Linear(64,12),\n",
    "            nn.ReLU(True),\n",
    "            nn.Linear(12,3))\n",
    "        \n",
    "        self.decoder = nn.Sequential(\n",
    "            nn.Linear(3,12),\n",
    "            nn.ReLU(True),\n",
    "            nn.Linear(12,64),\n",
    "            nn.ReLU(True),\n",
    "            nn.Linear(64,128),\n",
    "            nn.ReLU(True),\n",
    "            nn.Linear(128,28*28),\n",
    "            nn.Tanh())\n",
    "        # Defininf the forward feed\n",
    "    def forward(self,x):\n",
    "        x = self.encoder(x)\n",
    "        x = self.decoder(x)\n",
    "        return x"
   ]
  },
  {
   "cell_type": "code",
   "execution_count": null,
   "metadata": {},
   "outputs": [],
   "source": []
  },
  {
   "cell_type": "code",
   "execution_count": 13,
   "metadata": {},
   "outputs": [
    {
     "name": "stdout",
     "output_type": "stream",
     "text": [
      "autoencoder(\n",
      "  (encoder): Sequential(\n",
      "    (0): Linear(in_features=784, out_features=128, bias=True)\n",
      "    (1): ReLU(inplace)\n",
      "    (2): Linear(in_features=128, out_features=64, bias=True)\n",
      "    (3): ReLU(inplace)\n",
      "    (4): Linear(in_features=64, out_features=12, bias=True)\n",
      "    (5): ReLU(inplace)\n",
      "    (6): Linear(in_features=12, out_features=3, bias=True)\n",
      "  )\n",
      "  (decoder): Sequential(\n",
      "    (0): Linear(in_features=3, out_features=12, bias=True)\n",
      "    (1): ReLU(inplace)\n",
      "    (2): Linear(in_features=12, out_features=64, bias=True)\n",
      "    (3): ReLU(inplace)\n",
      "    (4): Linear(in_features=64, out_features=128, bias=True)\n",
      "    (5): ReLU(inplace)\n",
      "    (6): Linear(in_features=128, out_features=784, bias=True)\n",
      "    (7): Tanh()\n",
      "  )\n",
      ")\n"
     ]
    }
   ],
   "source": [
    "# Deining model\n",
    "model = autoencoder().cuda()\n",
    "print(model)"
   ]
  },
  {
   "cell_type": "code",
   "execution_count": 14,
   "metadata": {},
   "outputs": [],
   "source": [
    "# Definining the optimizer and the loss criterion\n",
    "criterion= nn.MSELoss()\n",
    "optimizer = torch.optim.Adam(model.parameters(), lr = learning_rate, weight_decay=1e-5)"
   ]
  },
  {
   "cell_type": "code",
   "execution_count": 15,
   "metadata": {},
   "outputs": [
    {
     "name": "stdout",
     "output_type": "stream",
     "text": [
      "epoch [1/100], loss:0.2023\n",
      "epoch [2/100], loss:0.1733\n",
      "epoch [3/100], loss:0.1803\n",
      "epoch [4/100], loss:0.1566\n",
      "epoch [5/100], loss:0.1482\n",
      "epoch [6/100], loss:0.1424\n",
      "epoch [7/100], loss:0.1472\n",
      "epoch [8/100], loss:0.1380\n",
      "epoch [9/100], loss:0.1424\n",
      "epoch [10/100], loss:0.1398\n",
      "epoch [11/100], loss:0.1423\n",
      "epoch [12/100], loss:0.1209\n",
      "epoch [13/100], loss:0.1315\n",
      "epoch [14/100], loss:0.1340\n",
      "epoch [15/100], loss:0.1317\n",
      "epoch [16/100], loss:0.1346\n",
      "epoch [17/100], loss:0.1317\n",
      "epoch [18/100], loss:0.1382\n",
      "epoch [19/100], loss:0.1372\n",
      "epoch [20/100], loss:0.1245\n",
      "epoch [21/100], loss:0.1239\n",
      "epoch [22/100], loss:0.1248\n",
      "epoch [23/100], loss:0.1167\n",
      "epoch [24/100], loss:0.1276\n",
      "epoch [25/100], loss:0.1252\n",
      "epoch [26/100], loss:0.1276\n",
      "epoch [27/100], loss:0.1397\n",
      "epoch [28/100], loss:0.1355\n",
      "epoch [29/100], loss:0.1172\n",
      "epoch [30/100], loss:0.1207\n",
      "epoch [31/100], loss:0.1222\n",
      "epoch [32/100], loss:0.1293\n",
      "epoch [33/100], loss:0.1175\n",
      "epoch [34/100], loss:0.1187\n",
      "epoch [35/100], loss:0.1203\n",
      "epoch [36/100], loss:0.1251\n",
      "epoch [37/100], loss:0.1279\n",
      "epoch [38/100], loss:0.1330\n",
      "epoch [39/100], loss:0.1252\n",
      "epoch [40/100], loss:0.1285\n",
      "epoch [41/100], loss:0.1142\n",
      "epoch [42/100], loss:0.1287\n",
      "epoch [43/100], loss:0.1215\n",
      "epoch [44/100], loss:0.1163\n",
      "epoch [45/100], loss:0.1285\n",
      "epoch [46/100], loss:0.1291\n",
      "epoch [47/100], loss:0.1278\n",
      "epoch [48/100], loss:0.1233\n",
      "epoch [49/100], loss:0.1308\n",
      "epoch [50/100], loss:0.1252\n",
      "epoch [51/100], loss:0.1227\n",
      "epoch [52/100], loss:0.1214\n",
      "epoch [53/100], loss:0.1216\n",
      "epoch [54/100], loss:0.1125\n",
      "epoch [55/100], loss:0.1111\n",
      "epoch [56/100], loss:0.1216\n",
      "epoch [57/100], loss:0.1253\n",
      "epoch [58/100], loss:0.1169\n",
      "epoch [59/100], loss:0.1390\n",
      "epoch [60/100], loss:0.1256\n",
      "epoch [61/100], loss:0.1246\n",
      "epoch [62/100], loss:0.1328\n",
      "epoch [63/100], loss:0.1283\n",
      "epoch [64/100], loss:0.1260\n",
      "epoch [65/100], loss:0.1178\n",
      "epoch [66/100], loss:0.1259\n",
      "epoch [67/100], loss:0.1216\n",
      "epoch [68/100], loss:0.1249\n",
      "epoch [69/100], loss:0.1304\n",
      "epoch [70/100], loss:0.1169\n",
      "epoch [71/100], loss:0.1238\n",
      "epoch [72/100], loss:0.1285\n",
      "epoch [73/100], loss:0.1228\n",
      "epoch [74/100], loss:0.1456\n",
      "epoch [75/100], loss:0.1156\n",
      "epoch [76/100], loss:0.1182\n",
      "epoch [77/100], loss:0.1058\n",
      "epoch [78/100], loss:0.0988\n",
      "epoch [79/100], loss:0.1374\n",
      "epoch [80/100], loss:0.1176\n",
      "epoch [81/100], loss:0.1099\n",
      "epoch [82/100], loss:0.1204\n",
      "epoch [83/100], loss:0.1299\n",
      "epoch [84/100], loss:0.1154\n",
      "epoch [85/100], loss:0.1303\n",
      "epoch [86/100], loss:0.1148\n",
      "epoch [87/100], loss:0.1276\n",
      "epoch [88/100], loss:0.1228\n",
      "epoch [89/100], loss:0.1212\n",
      "epoch [90/100], loss:0.1281\n",
      "epoch [91/100], loss:0.1215\n",
      "epoch [92/100], loss:0.1269\n",
      "epoch [93/100], loss:0.1265\n",
      "epoch [94/100], loss:0.1230\n",
      "epoch [95/100], loss:0.1227\n",
      "epoch [96/100], loss:0.1224\n",
      "epoch [97/100], loss:0.1332\n",
      "epoch [98/100], loss:0.1240\n",
      "epoch [99/100], loss:0.1284\n",
      "epoch [100/100], loss:0.1255\n"
     ]
    }
   ],
   "source": [
    "# traing the model\n",
    "for epoch in range(num_epochs):\n",
    "    for data in dataloader:\n",
    "        img,_ = data\n",
    "        #print('img', img)\n",
    "        #print('_', _)\n",
    "        img = img.view(img.size(0), -1)\n",
    "        #print(img)\n",
    "        img = Variable(img).cuda()\n",
    "        #print(img)\n",
    "    ## Forward pass##\n",
    "        #print(model)\n",
    "        output = model(img)\n",
    "       \n",
    "        loss = criterion(output, img)\n",
    "    \n",
    "    ## backward ##\n",
    "        optimizer.zero_grad()\n",
    "        loss.backward()\n",
    "        optimizer.step()\n",
    "    \n",
    "    #log#\n",
    "    print('epoch [{}/{}], loss:{:.4f}'\n",
    "          .format(epoch + 1, num_epochs, loss.item()))\n",
    "    if epoch % 10 == 0:\n",
    "        pic = to_img(output.cpu().data)\n",
    "        save_image(pic, './mlp_img/image_{}.png'.format(epoch))\n",
    "\n",
    "torch.save(model.state_dict(), './sim_autoencoder.pth')"
   ]
  },
  {
   "cell_type": "code",
   "execution_count": 16,
   "metadata": {},
   "outputs": [
    {
     "name": "stdout",
     "output_type": "stream",
     "text": [
      "D:\\1st year\\Python codes\\CIFR Analysis\\self contained analysis\n"
     ]
    }
   ],
   "source": [
    "print(os.getcwd())"
   ]
  },
  {
   "cell_type": "code",
   "execution_count": null,
   "metadata": {},
   "outputs": [],
   "source": []
  }
 ],
 "metadata": {
  "kernelspec": {
   "display_name": "Python 3",
   "language": "python",
   "name": "python3"
  },
  "language_info": {
   "codemirror_mode": {
    "name": "ipython",
    "version": 3
   },
   "file_extension": ".py",
   "mimetype": "text/x-python",
   "name": "python",
   "nbconvert_exporter": "python",
   "pygments_lexer": "ipython3",
   "version": "3.7.0"
  }
 },
 "nbformat": 4,
 "nbformat_minor": 2
}
